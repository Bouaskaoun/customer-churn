{
 "cells": [
  {
   "cell_type": "markdown",
   "metadata": {},
   "source": [
    "<center><img src='churn.png' alt='' /></center>"
   ]
  },
  {
   "cell_type": "markdown",
   "metadata": {},
   "source": [
    "## Loading libraries"
   ]
  },
  {
   "cell_type": "code",
   "execution_count": null,
   "metadata": {},
   "outputs": [],
   "source": [
    "import numpy as np\n",
    "import pandas as pd\n",
    "import matplotlib.pyplot as plt\n",
    "import seaborn as sns\n",
    "from sklearn.metrics import mutual_info_score\n",
    "from sklearn.model_selection import train_test_split\n",
    "from sklearn.dummy import DummyClassifier\n",
    "from sklearn.neighbors import KNeighborsClassifier\n",
    "from sklearn.linear_model import LogisticRegression\n",
    "from sklearn.svm import SVC\n",
    "from sklearn.ensemble import RandomForestClassifier\n",
    "from sklearn.ensemble import GradientBoostingClassifier\n",
    "from sklearn.model_selection import RandomizedSearchCV\n",
    "from sklearn.metrics import accuracy_score\n",
    "from sklearn.metrics import confusion_matrix\n",
    "from sklearn.metrics import classification_report"
   ]
  },
  {
   "cell_type": "markdown",
   "metadata": {},
   "source": [
    "## Data Reading"
   ]
  },
  {
   "cell_type": "code",
   "execution_count": null,
   "metadata": {},
   "outputs": [],
   "source": [
    "data = pd.read_csv('WA_Fn-UseC_-Telco-Customer-Churn.csv')"
   ]
  },
  {
   "cell_type": "code",
   "execution_count": null,
   "metadata": {},
   "outputs": [],
   "source": [
    "data.head()"
   ]
  },
  {
   "cell_type": "code",
   "execution_count": null,
   "metadata": {},
   "outputs": [],
   "source": [
    "data.columns"
   ]
  },
  {
   "cell_type": "code",
   "execution_count": null,
   "metadata": {},
   "outputs": [],
   "source": [
    "data.info()"
   ]
  },
  {
   "cell_type": "code",
   "execution_count": null,
   "metadata": {},
   "outputs": [],
   "source": [
    "for col in data.columns:\n",
    "    if data.dtypes[col] == 'object':\n",
    "        print('Col: {} - type {} - unique values: {}'.format(col,data.dtypes[col],data[col].unique()))"
   ]
  },
  {
   "cell_type": "markdown",
   "metadata": {},
   "source": [
    "- **we observe that the column TotalCharges was wrongly detected as an object. This column represents the total amount charged to the customer, so we are going to convert it to a numeric variable.**"
   ]
  },
  {
   "cell_type": "code",
   "execution_count": null,
   "metadata": {},
   "outputs": [],
   "source": [
    "data.TotalCharges = pd.to_numeric(data.TotalCharges,errors='coerce')"
   ]
  },
  {
   "cell_type": "code",
   "execution_count": null,
   "metadata": {},
   "outputs": [],
   "source": [
    "data.isnull().sum()"
   ]
  },
  {
   "cell_type": "markdown",
   "metadata": {},
   "source": [
    "- **We can now observe that the column TotalCharges has 11 missing values.**"
   ]
  },
  {
   "cell_type": "code",
   "execution_count": null,
   "metadata": {},
   "outputs": [],
   "source": [
    "data[data.TotalCharges.isnull()]"
   ]
  },
  {
   "cell_type": "markdown",
   "metadata": {},
   "source": [
    "- **These observations have also a tenure of 0, even though MontlyCharges is not null for these entries. This information appeared to be contradictory, and therefore, we decide to remove those observations from the data set.**"
   ]
  },
  {
   "cell_type": "code",
   "execution_count": null,
   "metadata": {},
   "outputs": [],
   "source": [
    "data.dropna(inplace=True)"
   ]
  },
  {
   "cell_type": "code",
   "execution_count": null,
   "metadata": {},
   "outputs": [],
   "source": [
    "data.isnull().sum()"
   ]
  },
  {
   "cell_type": "code",
   "execution_count": null,
   "metadata": {},
   "outputs": [],
   "source": [
    "data.drop(columns='customerID',inplace=True)"
   ]
  },
  {
   "cell_type": "code",
   "execution_count": null,
   "metadata": {},
   "outputs": [],
   "source": [
    "def categoriesFeatures(data):\n",
    "    for col in data.columns:\n",
    "        if data.dtypes[col] == 'object':\n",
    "            print('Col: {} - Values: {}'.format(col, data[col].unique()))"
   ]
  },
  {
   "cell_type": "code",
   "execution_count": null,
   "metadata": {},
   "outputs": [],
   "source": [
    "categoriesFeatures(data)"
   ]
  },
  {
   "cell_type": "code",
   "execution_count": null,
   "metadata": {},
   "outputs": [],
   "source": [
    "data.PaymentMethod = data.PaymentMethod.apply(lambda x: x.replace(' (automatic)',''))"
   ]
  },
  {
   "cell_type": "code",
   "execution_count": null,
   "metadata": {},
   "outputs": [],
   "source": [
    "data.replace('No internet service','No',inplace=True)\n",
    "data.replace('No phone service','No',inplace=True)"
   ]
  },
  {
   "cell_type": "code",
   "execution_count": null,
   "metadata": {},
   "outputs": [],
   "source": [
    "categoriesFeatures(data)"
   ]
  },
  {
   "cell_type": "markdown",
   "metadata": {},
   "source": [
    "## Data Visualization"
   ]
  },
  {
   "cell_type": "code",
   "execution_count": null,
   "metadata": {},
   "outputs": [],
   "source": [
    "plt.figure(figsize=(12,6))\n",
    "ax = sns.countplot(data=data, x='Churn', palette='pastel')\n",
    "plt.title('Proportion of observation of the response variable')\n",
    "plt.xlabel('Churn')\n",
    "plt.ylabel('Proportion of observation')\n",
    "for p in ax.patches:\n",
    "        ax.annotate('%{:.1f}'.format(100*p.get_height()/len(data)), (p.get_x()+0.3, p.get_height()+50))"
   ]
  },
  {
   "cell_type": "markdown",
   "metadata": {},
   "source": [
    "- **As shown above, this is an imbalanced data set because both classes are not equally distributed among all observations, being no the majority class (73.4%).**"
   ]
  },
  {
   "cell_type": "code",
   "execution_count": null,
   "metadata": {},
   "outputs": [],
   "source": [
    "def countplot_of_a_feature(col):\n",
    "    plt.figure(figsize=(12,6))\n",
    "    ax = sns.countplot(data=data, x=col, hue='Churn', palette='pastel')\n",
    "    plt.title('Proportion of observation of the ' + col + ' variable')\n",
    "    plt.xlabel(col)\n",
    "    plt.ylabel('Proportion of observation')\n",
    "    for p in ax.patches:\n",
    "            ax.annotate('%{:.1f}'.format(100*p.get_height()/len(data)), (p.get_x()+0.15, p.get_height()+20))"
   ]
  },
  {
   "cell_type": "code",
   "execution_count": null,
   "metadata": {},
   "outputs": [],
   "source": [
    "demographic_attributes = ['Partner',\n",
    "            'Dependents',\n",
    "            'SeniorCitizen',\n",
    "            'gender'\n",
    "           ]"
   ]
  },
  {
   "cell_type": "code",
   "execution_count": null,
   "metadata": {},
   "outputs": [],
   "source": [
    "for col in demographic_attributes:\n",
    "    countplot_of_a_feature(col)"
   ]
  },
  {
   "cell_type": "markdown",
   "metadata": {},
   "source": [
    "**We can extract the following conclusions by analyzing demographic attributes:**\n",
    "- **Customers with a partner churn less than customers with no partner.**\n",
    "- **Customers with a dependents churn less than customers with no dependents.**\n",
    "- **The churn rate of senior citizens is almost double that of young citizens.**\n",
    "- **A similar percentage of churn is shown both when a customer is a man or a woman.**"
   ]
  },
  {
   "cell_type": "code",
   "execution_count": null,
   "metadata": {},
   "outputs": [],
   "source": [
    "def pieplot_of_a_Feature(col,labels,title):\n",
    "    plt.figure(figsize=(12,6))\n",
    "    colors = sns.color_palette('pastel')[0:2]\n",
    "    plt.pie(data[col].value_counts()*100/len(data),labels=labels,colors=colors,autopct='%.1f%%')\n",
    "    plt.title(title)\n",
    "    plt.show()"
   ]
  },
  {
   "cell_type": "code",
   "execution_count": null,
   "metadata": {},
   "outputs": [],
   "source": [
    "services = ['PhoneService',\n",
    "            'MultipleLines',\n",
    "            'InternetService',\n",
    "            'OnlineSecurity',\n",
    "            'OnlineBackup',\n",
    "            'DeviceProtection',\n",
    "            'TechSupport',\n",
    "            'StreamingTV',\n",
    "            'StreamingMovies'\n",
    "           ]"
   ]
  },
  {
   "cell_type": "code",
   "execution_count": null,
   "metadata": {},
   "outputs": [],
   "source": [
    "for service in services:\n",
    "    countplot_of_a_feature(service)"
   ]
  },
  {
   "cell_type": "markdown",
   "metadata": {},
   "source": [
    "**We can extract the following conclusions by evaluating services attributes:**\n",
    "- **Customers with no phone service churn less than customers with phone service.**\n",
    "- **The percentage of churn for those with MultipleLines is nearly the same.**\n",
    "- **Customers with DSL and no intsernet service churn less than those with fibre optic.**\n",
    "- **Clients with online security, online backup and DeviceProtection churn less than those without it.**\n",
    "- **Customers with no tech support tend to churn more often than those with tech support.**\n",
    "- **The percentage of churn for those with StreamingTV and StreamingMovies is nearly the same.**"
   ]
  },
  {
   "cell_type": "code",
   "execution_count": null,
   "metadata": {},
   "outputs": [],
   "source": [
    "categories_account_attributes = ['Contract', 'PaperlessBilling','PaymentMethod']\n",
    "for col in categories_account_attributes:\n",
    "    countplot_of_a_feature(col)"
   ]
  },
  {
   "cell_type": "markdown",
   "metadata": {},
   "source": [
    "**We can extract the following conclusions by analyzing customer account attributes:**\n",
    "\n",
    "- **Customers with month-to-month contracts have higher churn rates compared to clients with yearly contracts.**\n",
    "- **Customers subscribed to paperless billing churn more than those who are not subscribed.**\n",
    "- **Customers who opted for an electronic check as paying method are more likely to leave the company.**"
   ]
  },
  {
   "cell_type": "code",
   "execution_count": null,
   "metadata": {},
   "outputs": [],
   "source": [
    "def hist_plot(col):\n",
    "    sns.displot(data=data,x=col,hue='Churn')\n",
    "    plt.title('Distribution of ' + col + ' by churn')\n",
    "    plt.xlabel(col)\n",
    "    plt.ylabel('Number of customers')\n",
    "    plt.show()"
   ]
  },
  {
   "cell_type": "code",
   "execution_count": null,
   "metadata": {},
   "outputs": [],
   "source": [
    "numericals_account_attributes = ['tenure', 'MonthlyCharges', 'TotalCharges']\n",
    "for col in numericals_account_attributes:\n",
    "    hist_plot(col)"
   ]
  },
  {
   "cell_type": "markdown",
   "metadata": {},
   "source": [
    "**We can extract the following conclusions by analyzing the histograms above:**\n",
    "- **New customers (low tenure) are more likely to churn.**\n",
    "- **The churn rate tends to be larger when monthly charges are high.**\n",
    "- **Clients with high total charges are less likely to leave the company.**"
   ]
  },
  {
   "cell_type": "markdown",
   "metadata": {},
   "source": [
    "## Feature importance"
   ]
  },
  {
   "cell_type": "code",
   "execution_count": null,
   "metadata": {},
   "outputs": [],
   "source": [
    "def compute_mutual_information(categorical_serie):\n",
    "    return mutual_info_score(categorical_serie, data.Churn)\n",
    "\n",
    "categorical_variables = data.select_dtypes(include=object).drop('Churn', axis=1)\n",
    "feature_importance = categorical_variables.apply(compute_mutual_information).sort_values(ascending=False)\n",
    "print(feature_importance)"
   ]
  },
  {
   "cell_type": "code",
   "execution_count": null,
   "metadata": {},
   "outputs": [],
   "source": [
    "plt.figure(figsize=(15,5))\n",
    "plt.title(\"Feature importance\")\n",
    "ax = sns.barplot(y=feature_importance.index, x=feature_importance.values, palette=\"Blues_d\", orient='h')"
   ]
  },
  {
   "cell_type": "markdown",
   "metadata": {},
   "source": [
    "- **As shown above, gender, PhoneService, and MultipleLines have a mutual information score really close to 0, meaning those variables do not have a strong relationship with the target.**"
   ]
  },
  {
   "cell_type": "markdown",
   "metadata": {},
   "source": [
    "## Feature Engineering"
   ]
  },
  {
   "cell_type": "code",
   "execution_count": null,
   "metadata": {},
   "outputs": [],
   "source": [
    "data_transformed = data.copy()\n",
    "\n",
    "label_encoding_columns = ['gender',\n",
    "                          'Partner',\n",
    "                          'Dependents',\n",
    "                          'PhoneService',\n",
    "                          'MultipleLines',\n",
    "                          'OnlineSecurity',\n",
    "                          'OnlineBackup',\n",
    "                          'DeviceProtection',\n",
    "                          'TechSupport',\n",
    "                          'StreamingTV',\n",
    "                          'StreamingMovies',\n",
    "                          'PaperlessBilling',\n",
    "                          'Churn']\n",
    "one_hot_encoding_columns = ['InternetService', 'Contract', 'PaymentMethod']\n",
    "\n",
    "for column in label_encoding_columns:\n",
    "    if column == 'gender':\n",
    "        data_transformed[column] = data_transformed[column].map({'Female': 1, 'Male': 0})\n",
    "    else: \n",
    "        data_transformed[column] = data_transformed[column].map({'Yes': 1, 'No': 0})\n",
    "\n",
    "# encode categorical variables with more than two levels using one-hot encoding\n",
    "data_transformed = pd.get_dummies(data_transformed, columns = one_hot_encoding_columns)"
   ]
  },
  {
   "cell_type": "code",
   "execution_count": null,
   "metadata": {},
   "outputs": [],
   "source": [
    "# min-max normalization\n",
    "min_max_columns = ['tenure', 'MonthlyCharges', 'TotalCharges']\n",
    "\n",
    "for column in min_max_columns:\n",
    "        min_column = data_transformed[column].min()\n",
    "        max_column = data_transformed[column].max()\n",
    "        data_transformed[column] = (data_transformed[column] - min_column) / (max_column - min_column)\n"
   ]
  },
  {
   "cell_type": "markdown",
   "metadata": {},
   "source": [
    "## Machine Learning Modeling"
   ]
  },
  {
   "cell_type": "code",
   "execution_count": null,
   "metadata": {},
   "outputs": [],
   "source": [
    "X = data_transformed.drop(columns='Churn')\n",
    "y = data_transformed.loc[:, 'Churn']"
   ]
  },
  {
   "cell_type": "code",
   "execution_count": null,
   "metadata": {},
   "outputs": [],
   "source": [
    "print(X.columns)"
   ]
  },
  {
   "cell_type": "code",
   "execution_count": null,
   "metadata": {},
   "outputs": [],
   "source": [
    "X_train, X_test, y_train, y_test = train_test_split(X, y, test_size=0.25, random_state=101)"
   ]
  },
  {
   "cell_type": "code",
   "execution_count": null,
   "metadata": {},
   "outputs": [],
   "source": [
    "seed = 2\n",
    "models = [\n",
    "    ('dummy_classifier', DummyClassifier(random_state=seed, strategy='most_frequent')),\n",
    "    ('k_nearest_neighbors', KNeighborsClassifier()),\n",
    "    ('logistic_regression', LogisticRegression(random_state=seed)),\n",
    "    ('support_vector_machines', SVC(random_state=seed)),\n",
    "    ('random_forest', RandomForestClassifier(random_state=seed)),\n",
    "    ('gradient_boosting', GradientBoostingClassifier(random_state=seed))\n",
    "    ]"
   ]
  },
  {
   "cell_type": "code",
   "execution_count": null,
   "metadata": {},
   "outputs": [],
   "source": [
    "results = []\n",
    "names = []\n",
    "for name, model in models:\n",
    "    # fit the model with the training data\n",
    "    model.fit(X_train, y_train)\n",
    "    # make predictions with the testing data\n",
    "    predictions = model.predict(X_test)\n",
    "    # calculate accuracy \n",
    "    accuracy = accuracy_score(y_test, predictions)\n",
    "    # append the model name and the accuracy to the lists\n",
    "    results.append(accuracy)\n",
    "    names.append(name)\n",
    "    # print classifier accuracy\n",
    "    print('Classifier: {}, Accuracy: {})'.format(name, accuracy))"
   ]
  },
  {
   "cell_type": "code",
   "execution_count": null,
   "metadata": {},
   "outputs": [],
   "source": [
    "# define the parameter grid\n",
    "grid_parameters = {'n_estimators': [80, 90, 100, 110, 115, 120],\n",
    "                   'max_depth': [3, 4, 5, 6],\n",
    "                   'max_features': [None, 'auto', 'sqrt', 'log2'], \n",
    "                   'min_samples_split': [2, 3, 4, 5]}\n",
    "\n",
    "\n",
    "# define the RandomizedSearchCV class for trying different parameter combinations\n",
    "random_search = RandomizedSearchCV(estimator=GradientBoostingClassifier(),\n",
    "                                   param_distributions=grid_parameters,\n",
    "                                   cv=5,\n",
    "                                   n_iter=150,\n",
    "                                   n_jobs=-1)\n",
    "\n",
    "# fitting the model for random search \n",
    "random_search.fit(X_train, y_train)\n",
    "\n",
    "# print best parameter after tuning\n",
    "print(random_search.best_params_)"
   ]
  },
  {
   "cell_type": "code",
   "execution_count": null,
   "metadata": {},
   "outputs": [],
   "source": [
    "# make the predictions\n",
    "random_search_predictions = random_search.predict(X_test)\n",
    "\n",
    "# construct the confusion matrix\n",
    "cf_matrix = confusion_matrix(y_test, random_search_predictions)\n",
    "\n",
    "# visualize the confusion matrix\n",
    "print(cf_matrix )"
   ]
  },
  {
   "cell_type": "code",
   "execution_count": null,
   "metadata": {},
   "outputs": [],
   "source": [
    "plt.figure(figsize=(4,3))\n",
    "sns.heatmap(cf_matrix,annot=True,fmt = \"d\",linecolor=\"k\",linewidths=3)"
   ]
  },
  {
   "cell_type": "markdown",
   "metadata": {},
   "source": [
    "- **As shown above, 1442 observations of the testing data were correctly classified by the model (1215 true negatives and 227 true positives). On the contrary, we can observe 316 misclassifications (114 false positives and 202 false negatives).**"
   ]
  },
  {
   "cell_type": "code",
   "execution_count": null,
   "metadata": {},
   "outputs": [],
   "source": [
    "print(classification_report(y_test, random_search_predictions))"
   ]
  },
  {
   "cell_type": "code",
   "execution_count": null,
   "metadata": {},
   "outputs": [],
   "source": [
    "accuracy_score(y_test, random_search_predictions)"
   ]
  }
 ],
 "metadata": {
  "kernelspec": {
   "display_name": "Python 3",
   "language": "python",
   "name": "python3"
  },
  "language_info": {
   "codemirror_mode": {
    "name": "ipython",
    "version": 3
   },
   "file_extension": ".py",
   "mimetype": "text/x-python",
   "name": "python",
   "nbconvert_exporter": "python",
   "pygments_lexer": "ipython3",
   "version": "3.8.5"
  }
 },
 "nbformat": 4,
 "nbformat_minor": 4
}
